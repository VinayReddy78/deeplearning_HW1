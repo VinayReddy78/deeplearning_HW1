{
 "cells": [
  {
   "cell_type": "code",
   "execution_count": 12,
   "id": "1d133a72",
   "metadata": {},
   "outputs": [],
   "source": [
    "\n",
    "import numpy as np\n",
    "import torch\n",
    "import torchvision as tv\n",
    "from torchvision import transforms, datasets\n",
    "import torch.nn as nn\n",
    "import torch.nn.functional as F\n",
    "import torch.optim as optim\n",
    "import matplotlib.pyplot as plt\n",
    "%matplotlib inline"
   ]
  },
  {
   "cell_type": "code",
   "execution_count": 13,
   "id": "1ff30450",
   "metadata": {},
   "outputs": [],
   "source": [
    "# Create random data between (-10, 10) and determine groundtruth\n",
    "sim_in = 20 * torch.rand((1000, 1)) - 10\n",
    "groundTruth = np.cos(sim_in)"
   ]
  },
  {
   "cell_type": "code",
   "execution_count": 14,
   "id": "c9eca80d",
   "metadata": {},
   "outputs": [],
   "source": [
    "# Calculate the number of parameters in a neural network\n",
    "def calcParams(inputModel):\n",
    "    val = sum(params.numel() for params in inputModel.parameters() if params.requires_grad)\n",
    "    return val"
   ]
  },
  {
   "cell_type": "code",
   "execution_count": 15,
   "id": "1f0f1633",
   "metadata": {},
   "outputs": [],
   "source": [
    "# Set up NN for cos(x) training - 2 Hidden Layers, 32 parameters - Shallow Network\n",
    "class OptimizeNN(nn.Module):\n",
    "    def __init__(self):\n",
    "        super().__init__()\n",
    "        self.fc1 = nn.Linear(1, 12)\n",
    "        self.fc2 = nn.Linear(12, 6)\n",
    "        self.fc3 = nn.Linear(6, 1)\n",
    "\n",
    "    def forward(self, val):\n",
    "        val = F.relu(self.fc1(val))\n",
    "        val = F.relu(self.fc2(val))\n",
    "        val = self.fc3(val)\n",
    "        return val"
   ]
  },
  {
   "cell_type": "code",
   "execution_count": 16,
   "id": "a7e0846b",
   "metadata": {},
   "outputs": [],
   "source": [
    "# Set up necessary auxilaries for neural net training\n",
    "optimNet = OptimizeNN()\n",
    "costFunc = nn.MSELoss()\n",
    "opt = optim.Adam(optimNet.parameters(), lr=0.001)"
   ]
  },
  {
   "cell_type": "code",
   "execution_count": 17,
   "id": "56b8801e",
   "metadata": {},
   "outputs": [],
   "source": [
    "def min_ratio(w):\n",
    "    count = 0\n",
    "    total = 0\n",
    "    for x in w:\n",
    "        if(x>0):\n",
    "            count += 1\n",
    "        total +=1\n",
    "    return count/ total"
   ]
  },
  {
   "cell_type": "code",
   "execution_count": 18,
   "id": "5f6a2ff7",
   "metadata": {},
   "outputs": [],
   "source": [
    "def calculate_grad_norm(model):\n",
    "\n",
    "    grads = []\n",
    "    for p in model.modules():\n",
    "        if isinstance(p, nn.Linear):\n",
    "            param_norm = p.weight.grad.norm(2).item()\n",
    "            grads.append(param_norm)\n",
    "\n",
    "    grad_mean = np.mean(grads) # compute mean of gradient norms\n",
    "    return grad_mean"
   ]
  },
  {
   "cell_type": "code",
   "execution_count": 19,
   "id": "75e66cc0",
   "metadata": {},
   "outputs": [],
   "source": [
    "minRatio = []\n",
    "Loss = []\n",
    "train_count = 100\n",
    "for i in range(train_count):\n",
    "    EPOCHS = 100\n",
    "    lss = 0\n",
    "    # Set up necessary auxilaries for neural net training\n",
    "    optimNet = OptimizeNN()\n",
    "    costFunc = nn.MSELoss()\n",
    "    opt = optim.Adam(optimNet.parameters(), lr=0.001)\n",
    "    for epochIndex in range(EPOCHS):\n",
    "        optimNet.zero_grad()\n",
    "        output = optimNet(sim_in)\n",
    "        cost = costFunc(output, groundTruth)\n",
    "        with torch.no_grad():\n",
    "            lss += (costFunc(output, groundTruth))\n",
    "        cost.backward()\n",
    "        opt.step()\n",
    "    #print(calculate_grad_norm(optimNet))\n",
    "    Loss.append(lss/len(sim_in))\n",
    "    num_param = calcParams(optimNet)\n",
    "    \n",
    "    # Allocate Hessian size\n",
    "    H = torch.zeros((num_param, num_param))\n",
    "\n",
    "    y_hat = optimNet(sim_in)\n",
    "    y = sim_in\n",
    "    loss  = ((y_hat - y)**2).mean()\n",
    "    # Calculate Jacobian w.r.t. model parameters\n",
    "    J = torch.autograd.grad(loss, list(optimNet.parameters()), create_graph=True)\n",
    "    J = torch.cat([e.flatten() for e in J]) # flatten\n",
    "\n",
    "    # Fill in Hessian\n",
    "    num_param = calcParams(optimNet)\n",
    "    for i in range(num_param):\n",
    "        result = torch.autograd.grad(J[i], list(optimNet.parameters()), retain_graph=True)\n",
    "        H[i] = torch.cat([r.flatten() for r in result]) # flatten\n",
    "    w, v = np.linalg.eig(H)\n",
    "    minRatio.append(min_ratio(w))\n",
    "    #print(min_ratio(w))"
   ]
  },
  {
   "cell_type": "code",
   "execution_count": 20,
   "id": "148e82a4",
   "metadata": {},
   "outputs": [],
   "source": [
    "num_param = calcParams(optimNet)"
   ]
  },
  {
   "cell_type": "code",
   "execution_count": 21,
   "id": "71c49b76",
   "metadata": {},
   "outputs": [],
   "source": [
    "\n",
    "\n",
    "H = torch.zeros((num_param, num_param))\n",
    "\n",
    "y_hat = optimNet(sim_in)\n",
    "y = sim_in\n",
    "loss  = ((y_hat - y)**2).mean()\n",
    "\n",
    "J = torch.autograd.grad(loss, list(optimNet.parameters()), create_graph=True)\n",
    "J = torch.cat([e.flatten() for e in J]) # flatten\n",
    "\n",
    "\n",
    "for i in range(num_param):\n",
    "    result = torch.autograd.grad(J[i], list(optimNet.parameters()), retain_graph=True)\n",
    "    H[i] = torch.cat([r.flatten() for r in result]) # flatten"
   ]
  },
  {
   "cell_type": "code",
   "execution_count": 22,
   "id": "ec5ac242",
   "metadata": {},
   "outputs": [
    {
     "data": {
      "text/plain": [
       "Text(0, 0.5, 'Loss')"
      ]
     },
     "execution_count": 22,
     "metadata": {},
     "output_type": "execute_result"
    },
    {
     "data": {
      "image/png": "[encoded data removed]",
      "text/plain": [
       "<Figure size 640x480 with 1 Axes>"
      ]
     },
     "metadata": {},
     "output_type": "display_data"
    }
   ],
   "source": [
    "plt.scatter(minRatio, Loss)\n",
    "plt.xlabel('Minimal Ratio')\n",
    "plt.ylabel('Loss')"
   ]
  }
 ],
 "metadata": {
  "kernelspec": {
   "display_name": "Python 3 (ipykernel)",
   "language": "python",
   "name": "python3"
  },
  "language_info": {
   "codemirror_mode": {
    "name": "ipython",
    "version": 3
   },
   "file_extension": ".py",
   "mimetype": "text/x-python",
   "name": "python",
   "nbconvert_exporter": "python",
   "pygments_lexer": "ipython3",
   "version": "3.9.13"
  }
 },
 "nbformat": 4,
 "nbformat_minor": 5
}
