{
 "cells": [
  {
   "cell_type": "code",
   "execution_count": 2,
   "id": "6a4324ef",
   "metadata": {},
   "outputs": [],
   "source": [
    "import torch\n",
    "import torch.nn as nn\n",
    "import torch.nn.functional as F\n",
    "from torch.utils.data import DataLoader\n",
    "from torchvision import datasets, transforms\n",
    "\n",
    "import numpy as np\n",
    "import pandas as pd\n",
    "import matplotlib.pyplot as plt\n",
    "%matplotlib inline"
   ]
  },
  {
   "cell_type": "code",
   "execution_count": 41,
   "id": "66a0cd37",
   "metadata": {},
   "outputs": [],
   "source": [
    "transform = transforms.ToTensor() \n",
    "\n",
    "train_data_set = datasets.MNIST(root='./data', train=True, download=True, transform=transform)\n",
    "test_data_set = datasets.MNIST(root='./data', train=False, download=True, transform=transform)"
   ]
  },
  {
   "cell_type": "code",
   "execution_count": 42,
   "id": "2526d421",
   "metadata": {},
   "outputs": [
    {
     "data": {
      "text/plain": [
       "Dataset MNIST\n",
       "    Number of datapoints: 60000\n",
       "    Root location: ./data\n",
       "    Split: Train\n",
       "    StandardTransform\n",
       "Transform: ToTensor()"
      ]
     },
     "execution_count": 42,
     "metadata": {},
     "output_type": "execute_result"
    }
   ],
   "source": [
    "train_data_set\n"
   ]
  },
  {
   "cell_type": "code",
   "execution_count": 43,
   "id": "ff7b8e6a",
   "metadata": {},
   "outputs": [
    {
     "data": {
      "text/plain": [
       "Dataset MNIST\n",
       "    Number of datapoints: 10000\n",
       "    Root location: ./data\n",
       "    Split: Test\n",
       "    StandardTransform\n",
       "Transform: ToTensor()"
      ]
     },
     "execution_count": 43,
     "metadata": {},
     "output_type": "execute_result"
    }
   ],
   "source": [
    "test_data_set"
   ]
  },
  {
   "cell_type": "code",
   "execution_count": 12,
   "id": "5a74b503",
   "metadata": {},
   "outputs": [],
   "source": [
    "train_loader = DataLoader(train_data_set, batch_size=500, shuffle=True)\n",
    "test_loader = DataLoader(test_data_set, batch_size=100, shuffle=False)"
   ]
  },
  {
   "cell_type": "code",
   "execution_count": 13,
   "id": "e4bbae22",
   "metadata": {},
   "outputs": [],
   "source": [
    "class CNN1(nn.Module):\n",
    "    def __init__(self,):\n",
    "        super(CNN1, self).__init__()\n",
    "        self.conv1 = nn.Conv2d(1, 10, kernel_size) #1st Convolution\n",
    "        self.pool = nn.MaxPool2d(2, 2)   #pool_size=2, strides=2 \n",
    "        self.conv2 = nn.Conv2d(10, 20, kernel_size) #2nd Convolution\n",
    "        self.fc1 = nn.Linear(320, 50) #((I/P - Filter + 2*Pad)/Stride)+1 \n",
    "        self.dropout = nn.Dropout(dropout)\n",
    "        self.fc2 = nn.Linear(50, 100)\n",
    "        self.fc3 = nn.Linear(100, 10)\n",
    "\n",
    "    def forward(self, x):\n",
    "        # -> n, 3, 32, 32\n",
    "        x = self.pool(F.relu(self.conv1(x)))  \n",
    "        x = self.pool(F.relu(self.conv2(x)))  \n",
    "        x = x.view(-1, 320)            #Flattening \n",
    "        x = F.relu(self.fc1(x))        #Fully Connected NN   \n",
    "        x = self.dropout(x)   \n",
    "        x = F.relu(self.fc2(x))        #Fully Connected NN           \n",
    "        x = self.fc3(x)                #O/P Layer       \n",
    "        return x"
   ]
  },
  {
   "cell_type": "code",
   "execution_count": 14,
   "id": "afbe3d21",
   "metadata": {},
   "outputs": [],
   "source": [
    "def trainFunc(model,num_epochs):\n",
    "    model.train()\n",
    "    n_total_steps = len(train_loader)\n",
    "    train_losses = []\n",
    "    train_epoch = []\n",
    "    train_acc = []\n",
    "    not_converged =True\n",
    "    epoch = 0\n",
    "    trainAvgLossArr =b []\n",
    "    while not_converged:\n",
    "        epoch += 1\n",
    "        n_correct = 0\n",
    "        n_samples = 0\n",
    "        lossSum = 0\n",
    "\n",
    "        for i, (images, labels) in enumerate(train_loader):  \n",
    "            # Forward pass\n",
    "            prediction = model(images)\n",
    "            loss = loss_func(prediction, labels)\n",
    "            lossSum += loss.detach().numpy()\n",
    "            # Backward and optimize\n",
    "            optimizer.zero_grad()\n",
    "            loss.backward()\n",
    "            optimizer.step()\n",
    "\n",
    "            _, predicted = torch.max(prediction.data, 1)\n",
    "            n_samples += labels.size(0)\n",
    "            n_correct += (predicted == labels).sum().item()\n",
    "            acc = 100.0 * n_correct / n_samples\n",
    "\n",
    "            if (i+1) % 100 == 0:\n",
    "                print (f'Epoch [{epoch}/{num_epochs}], Step [{i+1}/{n_total_steps}], Loss: {loss.item():.4f}',end='\\r',flush=True)\n",
    "                train_epoch.append(epoch)\n",
    "                train_losses.append(loss.item())\n",
    "                print(f'Epoch [{epoch}/{num_epochs}], Accuracy : {acc} %',end='\\r',flush=True)\n",
    "                train_acc.append(acc)\n",
    "\n",
    "                if epoch == num_epochs:\n",
    "                        print(f\"Max Epoch Reached, Loss: {loss.item():.4f}, Accuracy:{acc:2f}%\")\n",
    "                        not_converged = False\n",
    "                elif (epoch > 5) and  (train_losses[-1] < 0.001):\n",
    "                    if abs(train_losses[-3] - train_losses[-2]) < 1.0e-05 and abs(train_losses[-2] - train_losses[-1]) < 1.0e-05:\n",
    "                        print(\"Convergeance reached for loss:\",train_losses[-1])\n",
    "                        not_converged = False\n",
    "\n",
    "        trainAvgLossArr.append(lossSum/i+1)\n",
    "        \n",
    "                        \n",
    "    return train_epoch,train_losses,train_acc,trainAvgLossArr"
   ]
  },
  {
   "cell_type": "code",
   "execution_count": 15,
   "id": "6c69fad9",
   "metadata": {},
   "outputs": [],
   "source": [
    "input_size = 784 # 28x28\n",
    "max_epochs = 15\n",
    "learning_rate = 0.001\n",
    "kernel_size = 4\n",
    "weight_decay_val = 1e-4\n",
    "dropout = 0.25"
   ]
  },
  {
   "cell_type": "code",
   "execution_count": 16,
   "id": "1a6024d6",
   "metadata": {},
   "outputs": [
    {
     "name": "stdout",
     "output_type": "stream",
     "text": [
      "Total no of parameters in Model 1: 25550\n"
     ]
    }
   ],
   "source": [
    "torch.manual_seed(1)\n",
    "\n",
    "cnn1 = CNN1()\n",
    "loss_func = nn.CrossEntropyLoss()\n",
    "optimizer = torch.optim.Adam(cnn1.parameters(), lr=learning_rate, weight_decay = weight_decay_val)\n",
    "\n",
    "a=[]\n",
    "for i in cnn1.parameters():\n",
    "    a.append(torch.numel(i))\n",
    "print('Total no of parameters in Model 1:', np.sum(a),)"
   ]
  },
  {
   "cell_type": "code",
   "execution_count": 17,
   "id": "7147e4dc",
   "metadata": {},
   "outputs": [
    {
     "name": "stdout",
     "output_type": "stream",
     "text": [
      "Max Epoch Reached, Loss: 0.0677, Accuracy:98.134000%\n"
     ]
    }
   ],
   "source": [
    "train_epoch,train_losses,train_acc,trainAvgLossArr =trainFunc(cnn1,max_epochs)"
   ]
  },
  {
   "cell_type": "code",
   "execution_count": 19,
   "id": "5e67d584",
   "metadata": {},
   "outputs": [],
   "source": [
    "def testFunc (model):\n",
    "    model.eval()\n",
    "    with torch.no_grad():\n",
    "        n_correct = 0\n",
    "        n_samples = 0\n",
    "        n_class_correct = [0 for i in range(10)]\n",
    "        n_class_samples = [0 for i in range(10)]\n",
    "        for test_images, test_labels in test_loader:\n",
    "            outputs = model(test_images)\n",
    "            _, predicted = torch.max(outputs, 1)\n",
    "            n_samples += test_labels.size(0)\n",
    "            n_correct += (predicted == test_labels).sum().item()\n",
    "            \n",
    "            for i in range(100):\n",
    "                label = test_labels[i]\n",
    "                pred = predicted[i]\n",
    "                if (label == pred):\n",
    "                    n_class_correct[label] += 1\n",
    "                n_class_samples[label] += 1\n",
    "\n",
    "        netTest_acc1 = 100.0 * n_correct / n_samples\n",
    "        print(f'Accuracy of the network: {netTest_acc1} %')\n",
    "\n",
    "    \n",
    "    return netTest_acc1"
   ]
  },
  {
   "cell_type": "code",
   "execution_count": 20,
   "id": "592f6155",
   "metadata": {},
   "outputs": [
    {
     "name": "stdout",
     "output_type": "stream",
     "text": [
      "Accuracy of the network: 98.79 %\n"
     ]
    }
   ],
   "source": [
    "cnn1TestAcc = testFunc(cnn1)"
   ]
  },
  {
   "cell_type": "code",
   "execution_count": 24,
   "id": "4122b634",
   "metadata": {},
   "outputs": [],
   "source": [
    "class CNN2(nn.Module):\n",
    "    def __init__(self,):\n",
    "        super(CNN2, self).__init__()\n",
    "        self.conv1 = nn.Conv2d(1, 10, kernel_size) #1st Convolution\n",
    "        self.pool = nn.MaxPool2d(2, 2)   #pool_size=2, \n",
    "        self.conv2 = nn.Conv2d(10, 20, kernel_size) #2nd Convolution\n",
    "        self.fc1 = nn.Linear(20*kernel_size*kernel_size, 50) \n",
    "        self.fc2 = nn.Linear(50,50)\n",
    "        self.fc3 = nn.Linear(50,40)\n",
    "        self.fc4 = nn.Linear(40,30)\n",
    "        self.fc5 = nn.Linear(30, 10)\n",
    "\n",
    "    def forward(self, x):\n",
    "        # -> n, 3, 32, 32\n",
    "        x = self.pool(F.relu(self.conv1(x)))  \n",
    "        x = self.pool(F.relu(self.conv2(x)))  \n",
    "        x = x.view(-1, 320)            #Flattening \n",
    "        x = F.relu(self.fc1(x))        #Fully Connected NN       \n",
    "        x = F.relu(self.fc2(x))        #Fully Connected NN \n",
    "        x = F.relu(self.fc3(x))        #Fully Connected NN \n",
    "        x = F.relu(self.fc4(x))        #Fully Connected NN\n",
    "        x = self.fc5(x)                #O/P Layer       \n",
    "        return x"
   ]
  },
  {
   "cell_type": "code",
   "execution_count": 25,
   "id": "81f155d1",
   "metadata": {},
   "outputs": [
    {
     "name": "stdout",
     "output_type": "stream",
     "text": [
      "Total no of parameters in Model 2: 25570\n"
     ]
    }
   ],
   "source": [
    "torch.manual_seed(1)\n",
    "\n",
    "cnn2 = CNN2()\n",
    "loss_func = nn.CrossEntropyLoss()\n",
    "optimizer = torch.optim.Adam(cnn2.parameters(), lr=learning_rate, weight_decay = weight_decay_val)\n",
    "\n",
    "a=[]\n",
    "\n",
    "for i in cnn2.parameters():\n",
    "    a.append(torch.numel(i))\n",
    "print('Total no of parameters in Model 2:', np.sum(a),)"
   ]
  },
  {
   "cell_type": "code",
   "execution_count": 26,
   "id": "e3b71d55",
   "metadata": {},
   "outputs": [
    {
     "name": "stdout",
     "output_type": "stream",
     "text": [
      "Max Epoch Reached, Loss: 0.0845, Accuracy:97.998000%\n"
     ]
    }
   ],
   "source": [
    "train_epoch2,train_losses2,train_acc2,trainAvgLossArr2=trainFunc(cnn2,max_epochs)"
   ]
  },
  {
   "cell_type": "code",
   "execution_count": 27,
   "id": "38e40168",
   "metadata": {},
   "outputs": [
    {
     "name": "stdout",
     "output_type": "stream",
     "text": [
      "Accuracy of the network: 98.19 %\n"
     ]
    }
   ],
   "source": [
    "cnn2TestAcc = testFunc(cnn2)"
   ]
  },
  {
   "cell_type": "code",
   "execution_count": 34,
   "id": "1fd33641",
   "metadata": {},
   "outputs": [],
   "source": [
    "class CNN3(nn.Module):\n",
    "    def __init__(self,): \n",
    "        super(CNN3, self).__init__()\n",
    "        self.conv1 = nn.Conv2d(1, 10, 5)\n",
    "        self.pool = nn.MaxPool2d(2, 2)\n",
    "        self.conv2 = nn.Conv2d(10, 15, 5)\n",
    "        self.fc1 = nn.Linear(15*4*4, 84)\n",
    "        self.fc2 = nn.Linear(84, 10)\n",
    "       \n",
    "\n",
    "    def forward(self, x):\n",
    "        x = self.pool(F.relu(self.conv1(x)))\n",
    "        x = self.pool(F.relu(self.conv2(x)))\n",
    "     \n",
    "        x = x.view(-1, 15*4*4)\n",
    "        x = F.relu(self.fc1(x))\n",
    "        x = self.fc2(x)\n",
    "        \n",
    "        return x"
   ]
  },
  {
   "cell_type": "code",
   "execution_count": 35,
   "id": "f0353342",
   "metadata": {},
   "outputs": [
    {
     "name": "stdout",
     "output_type": "stream",
     "text": [
      "Total no of parameters in Model 3: 25119\n"
     ]
    }
   ],
   "source": [
    "torch.manual_seed(1)\n",
    "\n",
    "cnn3 = CNN3()\n",
    "loss_func = nn.CrossEntropyLoss()\n",
    "optimizer = torch.optim.Adam(cnn3.parameters(), lr=learning_rate, weight_decay = weight_decay_val)\n",
    "\n",
    "a=[]\n",
    "\n",
    "for i in cnn3.parameters():\n",
    "    a.append(torch.numel(i))\n",
    "print('Total no of parameters in Model 3:', np.sum(a))\n"
   ]
  },
  {
   "cell_type": "code",
   "execution_count": 36,
   "id": "20b2478c",
   "metadata": {},
   "outputs": [
    {
     "name": "stdout",
     "output_type": "stream",
     "text": [
      "Max Epoch Reached, Loss: 0.0553, Accuracy:98.976000%\n"
     ]
    }
   ],
   "source": [
    "train_epoch3,train_losses3,train_acc3,trainAvgLossArr3=trainFunc(cnn3,max_epochs)\n"
   ]
  },
  {
   "cell_type": "code",
   "execution_count": 38,
   "id": "184c0270",
   "metadata": {},
   "outputs": [
    {
     "name": "stdout",
     "output_type": "stream",
     "text": [
      "Accuracy of the network: 99.0 %\n"
     ]
    }
   ],
   "source": [
    "cnn3TestAcc = testFunc(cnn3)"
   ]
  },
  {
   "cell_type": "code",
   "execution_count": 44,
   "id": "4c05dbab",
   "metadata": {},
   "outputs": [
    {
     "data": {
      "image/png": "[encoded data removed]",
      "text/plain": [
       "<Figure size 1000x400 with 1 Axes>"
      ]
     },
     "metadata": {},
     "output_type": "display_data"
    },
    {
     "data": {
      "image/png": "[encoded data removed]",
      "text/plain": [
       "<Figure size 1000x400 with 1 Axes>"
      ]
     },
     "metadata": {},
     "output_type": "display_data"
    },
    {
     "name": "stdout",
     "output_type": "stream",
     "text": [
      "CNN1 Test Accuracy: 98.79 % \n",
      "CNN2 Test Accuracy: 98.19 % \n",
      "CNN3 Test Accuracy: 99.0 %\n"
     ]
    }
   ],
   "source": [
    "plt.figure(figsize=(10,4))\n",
    "plt.plot(train_epoch,trainAvgLossArr, color = \"b\")\n",
    "plt.plot(train_epoch2,trainAvgLossArr2, color = \"g\")\n",
    "plt.plot(train_epoch3,trainAvgLossArr3, color = \"r\")\n",
    "plt.title('Model Loss')\n",
    "plt.legend(['Model 1', 'Model 2','Model 3'])\n",
    "plt.xlabel('Epoch')\n",
    "plt.ylabel('Train Loss')\n",
    "#plt.savefig('EpochVSLoss.png')\n",
    "plt.show()\n",
    "\n",
    "plt.figure(figsize=(10,4))\n",
    "plt.plot(train_epoch,train_acc,color=\"b\")\n",
    "plt.plot(train_epoch2,train_acc2,color=\"g\")\n",
    "plt.plot(train_epoch3,train_acc3,color=\"r\")\n",
    "plt.title('Model Train Accuraccy')\n",
    "plt.legend(['Model 1', 'Model 2','Model 3'])\n",
    "plt.xlabel('Epoch')\n",
    "plt.ylabel('Accuracy')\n",
    "#plt.savefig('Model_Prediction.png')\n",
    "plt.show()\n",
    "\n",
    "print('CNN1 Test Accuracy:',cnn1TestAcc,'%','\\nCNN2 Test Accuracy:',cnn2TestAcc,'%','\\nCNN3 Test Accuracy:',cnn3TestAcc,'%')"
   ]
  },
  {
   "cell_type": "code",
   "execution_count": null,
   "id": "923e14c0",
   "metadata": {},
   "outputs": [],
   "source": []
  }
 ],
 "metadata": {
  "kernelspec": {
   "display_name": "Python 3 (ipykernel)",
   "language": "python",
   "name": "python3"
  },
  "language_info": {
   "codemirror_mode": {
    "name": "ipython",
    "version": 3
   },
   "file_extension": ".py",
   "mimetype": "text/x-python",
   "name": "python",
   "nbconvert_exporter": "python",
   "pygments_lexer": "ipython3",
   "version": "3.9.13"
  }
 },
 "nbformat": 4,
 "nbformat_minor": 5
}
